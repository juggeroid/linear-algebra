{
 "cells": [
  {
   "cell_type": "markdown",
   "metadata": {},
   "source": []
  },
  {
   "cell_type": "code",
   "execution_count": 1,
   "metadata": {},
   "outputs": [],
   "source": [
    "import numpy as np\n",
    "import sympy as sp\n",
    "np.set_printoptions(precision = 2, suppress = True) "
   ]
  },
  {
   "cell_type": "markdown",
   "metadata": {},
   "source": [
    "$\\text{Task 1}.$\n",
    "\n",
    "Solve the system of equations approximately and assess the solution's accuracy using $L_{1}, L_{2}, L_{\\infty}$ norms.\n",
    "\n",
    "\\begin{equation}\n",
    "    \\begin{cases}\n",
    "    (4 + \\epsilon_{1})x + 4(-2 + \\epsilon_2)y = 4 + \\epsilon_3 \\\\\n",
    "    -2x + (1 + \\epsilon_1)y = 1 + \\epsilon_4\n",
    "    \\end{cases}\\,.\n",
    "\\end{equation}\n",
    "\n",
    "... ->\n",
    "\n",
    "\\begin{equation}\n",
    "    \\begin{cases}\n",
    "    (4 + \\epsilon_{1})x + (-8 + 4\\epsilon_2)y = 4 + \\epsilon_3 \\\\\n",
    "    -2x + (1 + \\epsilon_1)y = 1 + \\epsilon_4\n",
    "    \\end{cases}\\,.\n",
    "\\end{equation}\n",
    "\n"
   ]
  },
  {
   "cell_type": "code",
   "execution_count": 2,
   "metadata": {},
   "outputs": [
    {
     "data": {
      "text/plain": [
       "array([-1., -1.])"
      ]
     },
     "execution_count": 2,
     "metadata": {},
     "output_type": "execute_result"
    }
   ],
   "source": [
    "A = np.array([[4, -8], [-2, 1]])\n",
    "b = np.array([4, 1])\n",
    "\n",
    "solution = np.linalg.inv(A) @ b\n",
    "solution"
   ]
  },
  {
   "cell_type": "markdown",
   "metadata": {},
   "source": [
    "Yielding an exact solution by calculating $A^{-1}b$ $\\implies e_i = 0 \\forall i$. That means the error estimation for $L_{1}, L_{2}$ and $L_{\\infty}$ = 0.\n",
    "\n",
    "**Answer (Task 1)**: error for $L_{1}, L_{2}$ and $L_{\\infty}$ = 0. An exact solution can be obtained."
   ]
  },
  {
   "cell_type": "markdown",
   "metadata": {},
   "source": [
    "___\n",
    "$\\text{Task 2}.$ \n",
    "\n",
    "Solve the system of equations using the iteration method.\n",
    "\n",
    "\\begin{equation}\n",
    "    \\begin{cases}\n",
    "    21x + 1y + 4z = 6 \\\\\n",
    "    1x + 21y + 9z = 3 \\\\\n",
    "    1x + 5y + 22z = 4 \n",
    "    \\end{cases}\n",
    "\\end{equation}\n",
    "\n",
    "...\n",
    "\n",
    "\\begin{equation}\n",
    "    \\begin{cases}\n",
    "    x = \\frac{6}{21} - \\frac{1}{21}y - \\frac{4}{21}z \\\\\n",
    "    y = \\frac{3}{21} - \\frac{1}{21}x - \\frac{9}{21}z \\\\\n",
    "    z = \\frac{4}{22} - \\frac{1}{22}x - \\frac{5}{22}y  \n",
    "    \\end{cases}\n",
    "\\end{equation}\n",
    "\n",
    "Derive the matrix $\\mathbf{P}$. \n",
    "\n",
    "$$\\mathbf{P} = \\begin{bmatrix}\n",
    "0 & -\\frac{1}{21} & - \\frac{4}{21} \\\\\n",
    "- \\frac{1}{21} & 0 & - \\frac{9}{21} \\\\\n",
    "- \\frac{1}{22} & - \\frac{5}{22} & 0\n",
    "\\end{bmatrix}$$"
   ]
  },
  {
   "cell_type": "code",
   "execution_count": 3,
   "metadata": {},
   "outputs": [
    {
     "data": {
      "text/plain": [
       "array([[ 0.  , -0.05, -0.19],\n",
       "       [-0.05,  0.  , -0.43],\n",
       "       [-0.05, -0.23,  0.  ]])"
      ]
     },
     "execution_count": 3,
     "metadata": {},
     "output_type": "execute_result"
    }
   ],
   "source": [
    "A = np.array([[21, 1, 4], [1, 21, 9], [1, 5, 22]])\n",
    "b = np.array([6, 3, 4])\n",
    "\n",
    "P = np.array([\n",
    "  [0, -1/21, -4/21],\n",
    "  [-1/21, 0, -9/21],\n",
    "  [-1/22, -5/22, 0]\n",
    "])\n",
    "P"
   ]
  },
  {
   "cell_type": "code",
   "execution_count": 4,
   "metadata": {},
   "outputs": [
    {
     "data": {
      "text/plain": [
       "0.47619047619047616"
      ]
     },
     "execution_count": 4,
     "metadata": {},
     "output_type": "execute_result"
    }
   ],
   "source": [
    "P_norm = np.linalg.norm(P, ord = np.inf)\n",
    "\"\"\"\n",
    "Since the L_inf-norm of matrix P is less than 1, \n",
    "the iteration method is going to converge and the solution will eventually be obtained.\n",
    "\"\"\"\n",
    "P_norm"
   ]
  },
  {
   "cell_type": "code",
   "execution_count": 5,
   "metadata": {},
   "outputs": [
    {
     "name": "stdout",
     "output_type": "stream",
     "text": [
      "7\n",
      "[0.25 0.06 0.16]\n"
     ]
    }
   ],
   "source": [
    "# Iteration method.\n",
    "\n",
    "MAX_ITERATIONS = 100\n",
    "PRECISION_THRESHOLD = 0.001\n",
    "\n",
    "x = [0, 0, 0]\n",
    "coefficients = [6/21, 3/21, 4/22]\n",
    "\n",
    "for iteration in np.arange(1, MAX_ITERATIONS, 1):\n",
    "    xn = coefficients + (P @ x)\n",
    "    diff = x - xn\n",
    "    x = xn\n",
    "    if np.all(np.abs(diff) < PRECISION_THRESHOLD):\n",
    "        break\n",
    "\n",
    "print(iteration)             # Number of the iteration where algorithm converges.\n",
    "print(xn)                    # Solution obtained using iteration method"
   ]
  },
  {
   "cell_type": "code",
   "execution_count": 6,
   "metadata": {},
   "outputs": [
    {
     "name": "stdout",
     "output_type": "stream",
     "text": [
      "[6. 3. 4.]\n",
      "[0.25 0.06 0.16]\n"
     ]
    }
   ],
   "source": [
    "# Double check!\n",
    "print(A @ xn)                # Verify (Ax ~ b)\n",
    "print(np.linalg.solve(A, b)) # Solution by numpy."
   ]
  },
  {
   "cell_type": "code",
   "execution_count": 7,
   "metadata": {},
   "outputs": [
    {
     "data": {
      "text/plain": [
       "0.006469916551417038"
      ]
     },
     "execution_count": 7,
     "metadata": {},
     "output_type": "execute_result"
    }
   ],
   "source": [
    "error = (P_norm ** (iteration) / (1 - P_norm)) * np.linalg.norm(coefficients, ord = 1)\n",
    "error"
   ]
  },
  {
   "cell_type": "markdown",
   "metadata": {},
   "source": [
    "**Answer (Task 2)** \n",
    "\n",
    "Iteration: $7$, error: $\\frac{ ||P||_1^{7} }{1-||P||_1}|c| \\approx 0.006$.\n",
    "\n",
    "Solution: $[0.25, 0.06, 0.16]$."
   ]
  },
  {
   "cell_type": "markdown",
   "metadata": {},
   "source": [
    "___\n",
    "$\\text{Task 3}.$ Find the eigenvalues for the following matrix using Jacobi eigenvalue method:\n",
    "\n",
    "$$\\mathbf{A} = \\begin{bmatrix}\n",
    "3 & 2 & -6 \\\\\n",
    "2 & 8 & 6 \\\\\n",
    "-6 & 6 & -8\n",
    "\\end{bmatrix}$$\n",
    "\n",
    "The iteration of the algorithm can be described as follows:\n",
    "\n",
    "1. First, apply the $\\text{abs}$ to each element and find the maximal non-diagonal element in the matrix, e.g. $a_{32} = 6.$ Result is denoted as $a_{ij}$.\n",
    "\n",
    "2. Then, calculate $\\text{tg}(2\\phi) = \\frac{2a_{ij}}{a_{ii} - a_{jj}}$, obtain $\\phi$ = $\\text{arctg}(\\frac{2a_{ij}}{a_{ii} - a_{jj}}) \\space / \\space 2$.\n",
    "3. Construct the $R(\\phi)$ rotation matrix, where $R_{ii} = R_{jj} = \\cos\\phi, R_{ij} = -\\sin{\\phi}, R_{ji} = \\sin{\\phi}$.\n",
    "4. Calculate $A_{k + 1} = R^T A_k R$, repeat the iteration until the result is an almost diagonal matrix (in this case just diagonal will be sufficient)."
   ]
  },
  {
   "cell_type": "code",
   "execution_count": 8,
   "metadata": {},
   "outputs": [
    {
     "name": "stdout",
     "output_type": "stream",
     "text": [
      "[  5.57  10.   -12.57]\n",
      "[  5.57 -12.57  10.  ]\n"
     ]
    }
   ],
   "source": [
    "MAX_ITERATIONS = 1000\n",
    "A = np.array([[3, 2, -6], [2, 8, 6], [-6, 6, -8]])\n",
    "\n",
    "def jacobi_eigenvalues(A, iterations = MAX_ITERATIONS):\n",
    "    # Rotation routine for the Jacobi eigenvalue algorithm.\n",
    "    def rotation_iteration(A):\n",
    "        # Get the absolute value maximal non-diagonal element.\n",
    "        def maximal_non_diagonal(A):\n",
    "            A = np.abs(A)\n",
    "            np.fill_diagonal(A, 0)\n",
    "            i, j = np.unravel_index(np.argmax(A, axis = None), A.shape)\n",
    "            return i, j\n",
    "        i, j = maximal_non_diagonal(A)\n",
    "        phi = np.arctan(2 * A[i][j] / (A[i][i] - A[j][j])) / 2\n",
    "        R = np.eye(A.shape[0])\n",
    "        R[i][i] = R[j][j] = np.cos(phi)\n",
    "        R[i][j] = -np.sin(phi)\n",
    "        R[j][i] = np.sin(phi)\n",
    "        return R.T @ A @ R\n",
    "    # Iteration process.\n",
    "    for iteration in np.arange(MAX_ITERATIONS):\n",
    "        A = rotation_iteration(A)\n",
    "        is_diagonal = not np.count_nonzero(A - np.diag(np.diagonal(A)))\n",
    "        if is_diagonal:\n",
    "            break\n",
    "    # Diagonal elements of resulting matrix should be our eigenvalues.\n",
    "    return np.diag(A)\n",
    "\n",
    "# Get the diagonal elements.\n",
    "jacobi_eig = jacobi_eigenvalues(A)\n",
    "\n",
    "# Check the solution.\n",
    "eig, rvecs = np.linalg.eig(A)\n",
    "\n",
    "print(jacobi_eig) \n",
    "print(eig)"
   ]
  },
  {
   "cell_type": "markdown",
   "metadata": {},
   "source": [
    "**Answer (Task 3).** $\\text{eig}(A) = (5.57, 10, -12.57).$"
   ]
  },
  {
   "cell_type": "markdown",
   "metadata": {},
   "source": [
    "___\n",
    "$\\text{Task 4.}$ Find the eigenvalues for the matrix using QR-decomposition.\n",
    "\n",
    "$$\\mathbf{A} = \\begin{bmatrix}\n",
    "7 & 5 \\\\\n",
    "5 & 2 \\\\\n",
    "\\end{bmatrix}$$\n",
    "\n",
    "QR eigenvalues algorithm is defined as follows: $$\n",
    "\\space A_k = Q_kR_k \\\\\n",
    "\\space A_{k+1}=R_kQ_k\n",
    "$$\n",
    "\n",
    "Iterate until the matrix $A$ is diagonal."
   ]
  },
  {
   "cell_type": "code",
   "execution_count": 9,
   "metadata": {},
   "outputs": [
    {
     "name": "stdout",
     "output_type": "stream",
     "text": [
      "[10.09 -1.09]\n",
      "[10.09 -1.09]\n"
     ]
    }
   ],
   "source": [
    "A = np.array([[7, 5], [5, 2]])\n",
    "MAX_ITERATIONS = 25\n",
    "\n",
    "def qr_eigenvalues(A):\n",
    "    for iteration in np.arange(MAX_ITERATIONS):\n",
    "        Q, R = np.linalg.qr(A)\n",
    "        A = R @ Q\n",
    "        is_diagonal = not np.count_nonzero(A - np.diag(np.diagonal(A)))\n",
    "        if is_diagonal:\n",
    "            break\n",
    "    return np.diag(A)\n",
    "        \n",
    "qr_eig = qr_eigenvalues(A)\n",
    "eig, rvecs = np.linalg.eig(A) \n",
    "\n",
    "print(qr_eig) \n",
    "print(eig)"
   ]
  },
  {
   "cell_type": "markdown",
   "metadata": {},
   "source": [
    "**Answer (Task 4):** $\\text{eig}(A) = (10.09, -1.09)$."
   ]
  },
  {
   "cell_type": "markdown",
   "metadata": {},
   "source": [
    "___\n",
    "$\\text{Task 5.}$ Find the most influential node in the oriented graph using PageRank algorithm with the damping factor of $1 - \\beta = 0.85$, and the adjacency matrix is defined as follows:\n",
    "$$\n",
    "A=\n",
    "\\begin{bmatrix}\n",
    "    1 & 1 & 0 & 1 & 0\\\\\n",
    "    1 & 0 & 0 & 1 & 1\\\\\n",
    "    0 & 1 & 1 & 0 & 1\\\\\n",
    "    1 & 1 & 0 & 0 & 0\\\\\n",
    "    1 & 0 & 0 & 0 & 0\\\\\n",
    "\\end{bmatrix}\n",
    "$$\n",
    "\n",
    "Apply the iteration algorithm to find the most influential node:\n",
    "$$\n",
    "P^{m}_{\\beta} \\begin{bmatrix}\n",
    "           \\frac{1}{n} \\\\\n",
    "           \\frac{1}{n} \\\\\n",
    "           \\vdots \\\\\n",
    "           \\frac{1}{n}\n",
    "         \\end{bmatrix}\n",
    "\\forall m\n",
    "$$\n",
    "\n",
    "Matrix $P$ is $A^T$, in which every element is divided by sum of its column entries. Set the initial value of $x$ to $x = [\\frac{1}{5} \\cdots \\frac{1}{5}]$.\n",
    "\n",
    "Damping factor is defined as $$P_{\\beta} = \\frac{\\beta}{n}1_{n\\times1} + (1 - \\beta)P$$"
   ]
  },
  {
   "cell_type": "code",
   "execution_count": 10,
   "metadata": {},
   "outputs": [
    {
     "data": {
      "text/plain": [
       "(2, 0.22768359375, array([0.2 , 0.2 , 0.23, 0.19, 0.18]))"
      ]
     },
     "execution_count": 10,
     "metadata": {},
     "output_type": "execute_result"
    }
   ],
   "source": [
    "MAX_ITERATIONS = 100\n",
    "PRECISION_THRESHOLD = 0.001\n",
    "\n",
    "A = np.array(\n",
    "[\n",
    "    [1.0, 1.0, 0.0, 1.0, 0.0],\n",
    "    [1.0, 0.0, 0.0, 1.0, 1.0],\n",
    "    [0.0, 1.0, 1.0, 0.0, 1.0],\n",
    "    [1.0, 1.0, 0.0, 0.0, 0.0],\n",
    "    [1.0, 0.0, 0.0, 0.0, 0.0]\n",
    "])\n",
    "\n",
    "def most_influential_node(A, beta, iterations = MAX_ITERATIONS):\n",
    "    \n",
    "    # Get the shape of the matrix.\n",
    "    N = A.shape[0]\n",
    "    \n",
    "    # Find the matrix P -- divide the elements by sum of column entries.\n",
    "    for i in np.arange(N):\n",
    "        A[:, i] = A[:, i] / np.sum(A[:, i])\n",
    "    \n",
    "    # Initial value.\n",
    "    x = np.ones(N) / N\n",
    "\n",
    "    # Iterative algorithm with damping factor.\n",
    "    for iteration in np.arange(iterations):\n",
    "        xn = beta / N * np.ones_like(x) + (1 - beta) * (A @ x)\n",
    "        diff = xn - x\n",
    "        x = xn\n",
    "        if np.all(np.abs(diff) < PRECISION_THRESHOLD):\n",
    "            break\n",
    "    return np.argmax(x), np.max(x), x\n",
    "        \n",
    "node, influential_score, scores = most_influential_node(A, 0.85)\n",
    "node, influential_score, scores"
   ]
  },
  {
   "cell_type": "markdown",
   "metadata": {},
   "source": [
    "**Answer (Task 5).** The most influential node is node #2 ($\\mathbf{C}$), $\\text{Score} = 0.23$.\n",
    "NB! Index starts from 0!"
   ]
  },
  {
   "cell_type": "markdown",
   "metadata": {},
   "source": [
    "___\n",
    "$\\text{Task 6.}$ Find the Perron-Frobenius number and corresponding eigenvector with non-negative entries such that its euclidean norm is equal to 1. Is this matrix considered \"productive\"? Perron-Frobenius number must be found iteratively.\n",
    "\n",
    "$$\n",
    "A=\n",
    "\\begin{bmatrix}\n",
    "    0.9  & 0.55 & 0.25 \\\\\n",
    "    0.55 & 0.6  & 0.65 \\\\\n",
    "    0.25 & 0.65 & 0.3  \\\\\n",
    "\\end{bmatrix}\n",
    "$$\n",
    "\n",
    "1. Find the eigenvalues iteratively (by using Jacobi eigenvalue method in Task 3).\n",
    "2. Find the eigenvector by solving $(A - \\lambda_{max}I)v = 0$ for $v$, then normalize $v$.\n",
    "\n",
    "$$\n",
    "(A - \\lambda_{max}I)v =\n",
    "\\begin{bmatrix}\n",
    "    -0.71  & 0.55 & 0.25 \\\\\n",
    "    0.55 & -1.01  & 0.65 \\\\\n",
    "    0.25 & 0.65 & -1.31  \\\\\n",
    "\\end{bmatrix}\n",
    "v = 0 \n",
    "\\rightarrow v = [0.64, 0.63, 0.44] $$ \n",
    "\n",
    "3. Check two conditions for productivity: $\\lambda_{max} < 1$ and $\\left \\| A \\right \\|_1 < 1$\n",
    "\n"
   ]
  },
  {
   "cell_type": "code",
   "execution_count": 11,
   "metadata": {},
   "outputs": [
    {
     "name": "stdout",
     "output_type": "stream",
     "text": [
      "Eigenvalues: [ 0.43  1.61 -0.24]\n",
      "[[-0.71  0.55  0.25]\n",
      " [ 0.55 -1.01  0.65]\n",
      " [ 0.25  0.65 -1.31]]\n"
     ]
    }
   ],
   "source": [
    "A = np.array([[0.9, 0.55, 0.25], [0.55, 0.6, 0.65], [0.25, 0.65, 0.3]])\n",
    "eigenvalues = jacobi_eigenvalues(A, iterations = 100)\n",
    "print(f'Eigenvalues: {eigenvalues}')\n",
    "print(A - np.max(eigenvalues) * np.eye(3)) # A - \\lambda_max * E."
   ]
  },
  {
   "cell_type": "code",
   "execution_count": 12,
   "metadata": {},
   "outputs": [
    {
     "data": {
      "text/plain": [
       "1.0000499987500624"
      ]
     },
     "execution_count": 12,
     "metadata": {},
     "output_type": "execute_result"
    }
   ],
   "source": [
    "np.linalg.norm(np.array([0.64, 0.63, 0.44]), ord = 2)"
   ]
  },
  {
   "cell_type": "code",
   "execution_count": 13,
   "metadata": {},
   "outputs": [
    {
     "data": {
      "text/plain": [
       "1.71"
      ]
     },
     "execution_count": 13,
     "metadata": {},
     "output_type": "execute_result"
    }
   ],
   "source": [
    "np.linalg.norm(np.array([0.64, 0.63, 0.44]), ord = 1)"
   ]
  },
  {
   "cell_type": "markdown",
   "metadata": {},
   "source": [
    "**Answer (Task 6).** $\\lambda_{max} = 1.61 > 1, \\left \\| A \\right \\|_1 \\approx 1.71 > 1 \\rightarrow \\text{not productive}, v = [0.64, 0.63, 0.44], \\lambda_{max} = 1.61$.\n"
   ]
  },
  {
   "cell_type": "markdown",
   "metadata": {},
   "source": [
    "___\n",
    "$\\text{Task 7.}$ Find the vector of final demand. Construct a matrix of expenditure (technological) coefficients. Calculate the Leontief inverse for this economy. Determine whether the Leontief model presented in this problem is productive.\n",
    "\n",
    "$$\n",
    "P=\n",
    "\\begin{bmatrix}\n",
    "    193  & 157 & 126 \\\\\n",
    "    270 & 231  & 72 \\\\\n",
    "    172 & 213 & 245  \\\\\n",
    "\\end{bmatrix}\n",
    "$$\n",
    "\n",
    "$$\n",
    "b=\n",
    "\\begin{bmatrix}\n",
    "    942 \\\\\n",
    "    963 \\\\\n",
    "    1115  \\\\\n",
    "\\end{bmatrix}\n",
    "$$"
   ]
  },
  {
   "cell_type": "code",
   "execution_count": 14,
   "metadata": {},
   "outputs": [
    {
     "name": "stdout",
     "output_type": "stream",
     "text": [
      "[466 390 485]\n",
      "[[0.2  0.16 0.11]\n",
      " [0.29 0.24 0.06]\n",
      " [0.18 0.22 0.22]]\n",
      "[[1.45 0.38 0.24]\n",
      " [0.59 1.5  0.21]\n",
      " [0.51 0.52 1.4 ]]\n"
     ]
    }
   ],
   "source": [
    "P = np.array([[193, 157, 126], [270, 231, 72], [172, 213, 245]])\n",
    "b = np.array([942, 963, 1115]).T\n",
    "\n",
    "final_demand_vector = b - (P @ np.ones_like(b))\n",
    "exp_coefficients = P / b\n",
    "leontief_matrix = np.linalg.inv(np.eye(3) - exp_coefficients)\n",
    "print(final_demand_vector)\n",
    "print(exp_coefficients)\n",
    "print(leontief_matrix)"
   ]
  },
  {
   "cell_type": "code",
   "execution_count": 15,
   "metadata": {},
   "outputs": [
    {
     "data": {
      "text/plain": [
       "array([2.23, 1.06, 1.06])"
      ]
     },
     "execution_count": 15,
     "metadata": {},
     "output_type": "execute_result"
    }
   ],
   "source": [
    "eigenvalues, _ = np.linalg.eig(leontief_matrix)\n",
    "eigenvalues"
   ]
  },
  {
   "cell_type": "markdown",
   "metadata": {},
   "source": [
    "**Answer (Task 7).** $\\lambda_{max} = 2.23 > 1 \\rightarrow \\text{not productive}$.\n",
    "\n",
    "$$\n",
    "\\text{FDV} =\n",
    "\\begin{bmatrix}\n",
    "466 & 390 & 485\n",
    "\\end{bmatrix}\n",
    "$$\n",
    "\n",
    "$$\n",
    "C=\n",
    "\\begin{bmatrix}\n",
    " 0.2 & 0.16 & 0.11 \\\\ \n",
    " 0.29 & 0.24 & 0.06 \\\\\n",
    " 0.18 & 0.22 & 0.22 \\\\\n",
    "\\end{bmatrix}\n",
    "$$\n",
    "\n",
    "$$\n",
    "\\text{Leontief Matrix} =\n",
    "\\begin{bmatrix}\n",
    " 1.45 & 0.38 & 0.24 \\\\ \n",
    " 0.59 & 1.5 & 0.21 \\\\\n",
    " 0.51 & 0.52 & 1.4 \\\\\n",
    "\\end{bmatrix}\n",
    "$$"
   ]
  },
  {
   "cell_type": "markdown",
   "metadata": {},
   "source": [
    "___\n",
    "$\\text{Task 8}.$ Find the value $f(A)$, $f(l) = e^{l + 1}$, where\n",
    "$$\n",
    "A=\n",
    "\\begin{bmatrix}\n",
    " 7 & 8 & 3 \\\\ \n",
    " -13 & -18 & -7 \\\\\n",
    " 37 & 56 & 21 \\\\\n",
    "\\end{bmatrix}\n",
    "$$\n",
    "\n",
    "1. Find the eigenvalues and eigenvectors to check whether the matrix is diagonalizable (no, it's not).\n",
    "2. Since it's not trivially diagonalizable, find the Jordan form $SJS^-1$.\n",
    "3. Perform Jordan-Chevalley decomposition $J = D + N$, where $D$ is a diagonal matrix, $N$ is nilpotent. $D$ and $N$ commute.\n",
    "4. Calculate $e^D$ for matrix $D$ then add $N$, $e^A = Se^JS^-1$. "
   ]
  },
  {
   "cell_type": "code",
   "execution_count": 16,
   "metadata": {},
   "outputs": [
    {
     "data": {
      "text/plain": [
       "(array([6., 2., 2.]),\n",
       " array([[-0.18,  0.58,  0.58],\n",
       "        [ 0.37, -0.58, -0.58],\n",
       "        [-0.91,  0.58,  0.58]]))"
      ]
     },
     "execution_count": 16,
     "metadata": {},
     "output_type": "execute_result"
    }
   ],
   "source": [
    "A = np.array([[7.0, 8.0, 3.0], [-13.0, -18.0, -7.0], [37.0, 56.0, 21.0]])\n",
    "eigenvalues, eigenvectors = np.linalg.eig(A)\n",
    "eigenvalues.real, eigenvectors.real"
   ]
  },
  {
   "cell_type": "code",
   "execution_count": 17,
   "metadata": {},
   "outputs": [
    {
     "data": {
      "text/plain": [
       "(Matrix([\n",
       " [ 0.5, -1.5,  0.2],\n",
       " [-0.5,  1.0, -0.4],\n",
       " [ 0.5,    0,  1.0]]),\n",
       " Matrix([\n",
       " [2.0, 1.0,   0],\n",
       " [  0, 2.0,   0],\n",
       " [  0,   0, 6.0]]),\n",
       " array([[-20., -30.,  -8.],\n",
       "        [ -6.,  -8.,  -2.],\n",
       "        [ 10.,  15.,   5.]]))"
      ]
     },
     "execution_count": 17,
     "metadata": {},
     "output_type": "execute_result"
    }
   ],
   "source": [
    "S, J = sp.Matrix(A).jordan_form()\n",
    "S_inv = np.linalg.inv(np.array(S).astype(float))\n",
    "S, J, S_inv"
   ]
  },
  {
   "cell_type": "code",
   "execution_count": 18,
   "metadata": {},
   "outputs": [
    {
     "name": "stdout",
     "output_type": "stream",
     "text": [
      "True\n"
     ]
    },
    {
     "data": {
      "text/latex": [
       "$\\displaystyle \\left[\\begin{matrix}796.46853088654 & 1184.11921218141 & 395.039737393804\\\\-1581.15894957522 & -2364.8493682639 & -791.079474787609\\\\3957.39737393804 & 5936.59606090707 & 1986.58774306795\\end{matrix}\\right]$"
      ],
      "text/plain": [
       "Matrix([\n",
       "[  796.46853088654, 1184.11921218141,  395.039737393804],\n",
       "[-1581.15894957522, -2364.8493682639, -791.079474787609],\n",
       "[ 3957.39737393804, 5936.59606090707,  1986.58774306795]])"
      ]
     },
     "execution_count": 18,
     "metadata": {},
     "output_type": "execute_result"
    }
   ],
   "source": [
    "D = np.array([[2.0, 0.0, 0.0], [0.0, 2.0, 0.0], [0.0, 0.0, 6.0]])\n",
    "N = np.array([[0.0, 1.0, 0.0], [0.0, 0.0, 0.0], [0.0, 0.0, 0.0]])\n",
    "# Matrices D and N must commute!\n",
    "print((D @ N == N @ D).all()) \n",
    "\n",
    "expJ = np.array([[np.e ** 2.0, 1.0, 0.0], [0.0, np.e ** 2.0, 0.0], [0.0, 0.0, np.e ** 6.0]])\n",
    "S @ expJ @ S_inv"
   ]
  },
  {
   "cell_type": "markdown",
   "metadata": {},
   "source": [
    "**Answer (Task 8.)** See the matrix above."
   ]
  },
  {
   "cell_type": "markdown",
   "metadata": {},
   "source": [
    "___\n",
    "$\\text{Task 9}.$ Solve the following linear programming problem and find the \"shadow prices\" that meet each constraint.\n",
    "\n",
    "$$\n",
    "24x_1 +102x_2 + 24x_3 \\rightarrow \\text{min}\\\\\n",
    "\\begin{cases}\n",
    "-8x_1 + 8x_2 + 6x_3 \\ge 3 \\\\\n",
    "4x_1 + 5x_2 - 5x_3 \\ge 2 \\\\\n",
    "x_1 \\ge 0; x_2 \\ge 0; x_3 \\ge 0 \n",
    "\\end{cases}\n",
    "$$\n",
    "\n",
    "1. Form the dual problem.\n",
    "\n",
    "$$\n",
    "3y_1 + 2y_2 \\rightarrow \\text{max}\\\\\n",
    "\\begin{cases}\n",
    "-8y_1 + 4y_2 \\le 24 \\\\\n",
    "8y_1 + 5y_2 \\le 102 \\\\\n",
    "6x_1 - 5y_2 \\le 24 \\\\\n",
    "y_1 \\ge 0; y_2 \\ge 0 \n",
    "\\end{cases}\n",
    "$$\n",
    "\n",
    "2. Just plug it into the solver."
   ]
  },
  {
   "cell_type": "code",
   "execution_count": 19,
   "metadata": {},
   "outputs": [
    {
     "data": {
      "text/plain": [
       "     con: array([], dtype=float64)\n",
       "     fun: -40.0\n",
       " message: 'Optimization terminated successfully.'\n",
       "     nit: 3\n",
       "   slack: array([ 0.,  0., 70.])\n",
       "  status: 0\n",
       " success: True\n",
       "       x: array([ 4., 14.])"
      ]
     },
     "execution_count": 19,
     "metadata": {},
     "output_type": "execute_result"
    }
   ],
   "source": [
    "import scipy\n",
    "from scipy.optimize import linprog\n",
    "\n",
    "f = np.array([24, 102, 24])\n",
    "A = np.array([[-8, 8, 6],[4, 5, -5]])\n",
    "b = np.array([3, 2]).T\n",
    "\n",
    "dual_f, dual_b, dual_A = -b, f, A.T\n",
    "x_dual = scipy.optimize.linprog(dual_f, dual_A, dual_b, method = 'simplex')\n",
    "x_dual"
   ]
  },
  {
   "cell_type": "markdown",
   "metadata": {},
   "source": [
    "**Answer (Task 9):** Variables in the dual problem are **4** and **14**."
   ]
  },
  {
   "cell_type": "markdown",
   "metadata": {},
   "source": [
    "___\n",
    "$\\text{Task 10}.$ Construct such a matrix norm on the $M_{2\\times2}$-space so that the series of matrices $A^n$ converges. \n",
    "\n",
    "$$\\mathbf{A} = \\begin{bmatrix}\n",
    "-0.8 & 6.0 \\\\\n",
    "0.0 & 0.8 \\\\\n",
    "\\end{bmatrix}\n",
    "$$\n",
    "\n",
    "It can be shown that $\\lim_{n \\rightarrow \\infty} A^{n} = 0_{2,2}.$ \n",
    "Let $A \\in C_{n \\times n}$ with spectral radius ρ(A). Then ρ(A) < 1 iff $\\lim_{k \\rightarrow \\infty} A_k = 0$. \n",
    "On the other hand, if ρ(A) > 1, $\\lim_{k \\rightarrow \\infty} ‖ A_{k} ‖ = \\infty$ The statement holds for any choice of matrix norm on $C_{n \\times n}$.\n",
    "The proof of this theorem is omitted (can be found here https://www-users.math.umn.edu/~olver/num_/lni.pdf). According to it, we can choose an arbitrary norm and it'll still converge to $0$ as $A^n$ converges to $0$ as well. "
   ]
  },
  {
   "cell_type": "code",
   "execution_count": 20,
   "metadata": {},
   "outputs": [
    {
     "data": {
      "text/plain": [
       "array([-0.8,  0.8])"
      ]
     },
     "execution_count": 20,
     "metadata": {},
     "output_type": "execute_result"
    }
   ],
   "source": [
    "A = np.array([[-0.8, 6.0], [0.0, 0.8]])\n",
    "np.linalg.eigvals(A) # spec rad = 0.8"
   ]
  },
  {
   "cell_type": "markdown",
   "metadata": {},
   "source": [
    "**Answer (Task 10):** an arbitrary matrix norm, e.g. $$||A||_F = (\\sum_{i = 1}^m \\sum_{j = 1}^n |a_{ij}|^2)^{\\frac{1}{2}}$$ "
   ]
  }
 ],
 "metadata": {
  "kernelspec": {
   "display_name": "Python 3 (ipykernel)",
   "language": "python",
   "name": "python3"
  },
  "language_info": {
   "codemirror_mode": {
    "name": "ipython",
    "version": 3
   },
   "file_extension": ".py",
   "mimetype": "text/x-python",
   "name": "python",
   "nbconvert_exporter": "python",
   "pygments_lexer": "ipython3",
   "version": "3.10.7"
  }
 },
 "nbformat": 4,
 "nbformat_minor": 4
}
